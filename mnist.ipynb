{
 "cells": [
  {
   "cell_type": "code",
   "execution_count": 1,
   "metadata": {},
   "outputs": [
    {
     "name": "stdout",
     "output_type": "stream",
     "text": [
      "Automatic pdb calling has been turned ON\n"
     ]
    }
   ],
   "source": [
    "%load_ext autoreload\n",
    "%autoreload 2\n",
    "%pdb"
   ]
  },
  {
   "cell_type": "code",
   "execution_count": 2,
   "metadata": {},
   "outputs": [
    {
     "name": "stderr",
     "output_type": "stream",
     "text": [
      "/scratch/t.tovi/packages/dss/lib/python3.10/site-packages/tqdm/auto.py:21: TqdmWarning: IProgress not found. Please update jupyter and ipywidgets. See https://ipywidgets.readthedocs.io/en/stable/user_install.html\n",
      "  from .autonotebook import tqdm as notebook_tqdm\n"
     ]
    }
   ],
   "source": [
    "from dss.env import FashionMNISTEnv \n",
    "from dss.transformation import ResNetFeature\n",
    "\n",
    "import matplotlib.pyplot as plt\n",
    "from stable_baselines3 import PPO\n",
    "from stable_baselines3.common.vec_env import DummyVecEnv\n",
    "from torch.utils.data import Dataset\n",
    "from os import path"
   ]
  },
  {
   "cell_type": "code",
   "execution_count": 3,
   "metadata": {},
   "outputs": [
    {
     "name": "stdout",
     "output_type": "stream",
     "text": [
      "Loading precomputed features...\n"
     ]
    }
   ],
   "source": [
    "mapping = ResNetFeature(device='cuda')\n",
    "\n",
    "# Create the RL environment\n",
    "env = DummyVecEnv([lambda: FashionMNISTEnv()])"
   ]
  },
  {
   "cell_type": "code",
   "execution_count": 4,
   "metadata": {},
   "outputs": [
    {
     "data": {
      "text/plain": [
       "torch.Size([60000, 784])"
      ]
     },
     "execution_count": 4,
     "metadata": {},
     "output_type": "execute_result"
    }
   ],
   "source": [
    "env.envs[0].dataset.features.shape"
   ]
  },
  {
   "cell_type": "code",
   "execution_count": 5,
   "metadata": {},
   "outputs": [
    {
     "name": "stdout",
     "output_type": "stream",
     "text": [
      "Using cuda device\n"
     ]
    },
    {
     "name": "stderr",
     "output_type": "stream",
     "text": [
      "/scratch/t.tovi/packages/dss/lib/python3.10/site-packages/stable_baselines3/common/on_policy_algorithm.py:150: UserWarning: You are trying to run PPO on the GPU, but it is primarily intended to run on the CPU when not using a CNN policy (you are using ActorCriticPolicy which should be a MlpPolicy). See https://github.com/DLR-RM/stable-baselines3/issues/1245 for more info. You can pass `device='cpu'` or `export CUDA_VISIBLE_DEVICES=` to force using the CPU.Note: The model will train, but the GPU utilization will be poor and the training might take longer than on CPU.\n",
      "  warnings.warn(\n"
     ]
    }
   ],
   "source": [
    "# Train the policy using PPO\n",
    "retrain = False\n",
    "agent = PPO(\"MlpPolicy\", env, verbose=1)\n",
    "if path.exists(\"playground/ppo_fashion_mnist.zip\") and not retrain:\n",
    "    agent = PPO.load(\"playground/ppo_fashion_mnist.zip\", env=env)\n",
    "else:\n",
    "    agent.learn(total_timesteps=int(1e5))\n",
    "    agent.save(\"playground/ppo_fashion_mnist\")"
   ]
  },
  {
   "cell_type": "markdown",
   "metadata": {},
   "source": [
    "# Eval"
   ]
  },
  {
   "cell_type": "code",
   "execution_count": 6,
   "metadata": {},
   "outputs": [],
   "source": [
    "import torch\n",
    "from torch import nn, optim\n",
    "from torchvision import datasets, transforms\n",
    "import numpy as np\n",
    "\n",
    "class FlatNet(nn.Module):\n",
    "    def __init__(self):\n",
    "        super(FlatNet, self).__init__()\n",
    "        self.fc = nn.Sequential(\n",
    "            nn.Linear(28 * 28, 128),\n",
    "            nn.ReLU(),\n",
    "            nn.Linear(128, 10)\n",
    "        )\n",
    "\n",
    "    def forward(self, x):\n",
    "        x = x.view(-1, 28 * 28)\n",
    "        return self.fc(x)\n",
    "\n",
    "class ConvNet(nn.Module):\n",
    "    def __init__(self):\n",
    "        super(ConvNet, self).__init__()\n",
    "        self.conv = nn.Sequential(\n",
    "            nn.Conv2d(1, 32, 3),\n",
    "            nn.GELU(),\n",
    "            nn.MaxPool2d(2),\n",
    "            nn.Conv2d(32, 64, 3),\n",
    "            nn.GELU(),\n",
    "            nn.MaxPool2d(2),\n",
    "        )\n",
    "        self.fc = nn.Sequential(\n",
    "            nn.Linear(64 * 5 * 5, 128),\n",
    "            nn.GELU(),\n",
    "            nn.Linear(128, 10)\n",
    "        )\n",
    "\n",
    "    def forward(self, x):\n",
    "        if x.ndim == 3:\n",
    "            x = x.unsqueeze(1)\n",
    "        x = self.conv(x)\n",
    "        x = x.view(-1, 64 * 5 * 5)\n",
    "        return self.fc(x)\n",
    "\n",
    "class SimpleNet(nn.Module):\n",
    "    def __init__(self):\n",
    "        super(SimpleNet, self).__init__()\n",
    "        self.fc = nn.Sequential(\n",
    "            nn.Linear(512, 128),\n",
    "            nn.ReLU(),\n",
    "            nn.Linear(128, 10)\n",
    "        )\n",
    "\n",
    "    def forward(self, x):\n",
    "        return self.fc(x)\n",
    "\n",
    "class SimpleDataset(Dataset):\n",
    "    def __init__(self, X, y):\n",
    "        self.X = X\n",
    "        self.y = y\n",
    "\n",
    "    def __len__(self):\n",
    "        return len(self.X)\n",
    "\n",
    "    def __getitem__(self, idx):\n",
    "        return self.X[idx].squeeze(0), self.y[idx].squeeze(0)\n",
    "\n",
    "def test_model(model):\n",
    "    model.eval()\n",
    "    test_loader = torch.utils.data.DataLoader(\n",
    "        datasets.FashionMNIST(root='./data', train=False, transform=transforms.ToTensor()),\n",
    "        batch_size=1000, shuffle=False\n",
    "    )\n",
    "\n",
    "    correct = 0\n",
    "    with torch.no_grad():\n",
    "        for data, target in test_loader:\n",
    "            feature = data\n",
    "            output = model(feature.to('cuda'))\n",
    "            pred = output.argmax(dim=1, keepdim=True).to('cpu')\n",
    "            correct += pred.eq(target.view_as(pred)).sum().item()\n",
    "\n",
    "    print(f'Test Accuracy: {correct / len(test_loader.dataset) * 100:.2f}%')\n",
    "    return correct / len(test_loader.dataset)\n"
   ]
  },
  {
   "cell_type": "markdown",
   "metadata": {},
   "source": [
    "# Score the dataset"
   ]
  },
  {
   "cell_type": "code",
   "execution_count": 7,
   "metadata": {},
   "outputs": [
    {
     "name": "stderr",
     "output_type": "stream",
     "text": [
      "100%|██████████| 60000/60000 [02:55<00:00, 341.49it/s]\n"
     ]
    }
   ],
   "source": [
    "# Create the RL environment\n",
    "import tqdm\n",
    "\n",
    "train_dataset = datasets.FashionMNIST(root='./data', train=True, transform=transforms.ToTensor())\n",
    "\n",
    "#features = torch.load('playground/features.pt')\n",
    "#train_dataset = SimpleDataset(features, train_dataset.targets)\n",
    "\n",
    "train_loader = torch.utils.data.DataLoader(train_dataset, batch_size=1, shuffle=True)\n",
    "\n",
    "X = []\n",
    "y = []\n",
    "data_values = []\n",
    "for state, label in tqdm.tqdm(train_loader):\n",
    "    _, log_likelihoods, _ = agent.policy.evaluate_actions(state.to(0), torch.tensor([0, 1]).to(0))\n",
    "    \n",
    "    datum_value = log_likelihoods[1].cpu().item()\n",
    "\n",
    "    X.append(state)\n",
    "    y.append(label)\n",
    "    data_values.append(datum_value)\n",
    "\n",
    "X = torch.cat(X)\n",
    "y = torch.cat(y)"
   ]
  },
  {
   "cell_type": "code",
   "execution_count": 8,
   "metadata": {},
   "outputs": [
    {
     "name": "stdout",
     "output_type": "stream",
     "text": [
      "Data size:  600\n",
      "Test Accuracy: 77.05%\n",
      "Test Accuracy: 77.86%\n",
      "Test Accuracy: 78.64%\n",
      "Test Accuracy: 78.90%\n",
      "Test Accuracy: 78.36%\n",
      "Test Accuracy: 78.98%\n",
      "Test Accuracy: 77.95%\n",
      "Test Accuracy: 74.45%\n",
      "Test Accuracy: 77.69%\n",
      "Test Accuracy: 78.54%\n",
      "Limit: 1, Mean Accuracy: 0.78\n",
      "Data size:  1800\n",
      "Test Accuracy: 79.93%\n",
      "Test Accuracy: 79.46%\n",
      "Test Accuracy: 81.61%\n",
      "Test Accuracy: 79.51%\n",
      "Test Accuracy: 81.12%\n",
      "Test Accuracy: 77.76%\n",
      "Test Accuracy: 79.78%\n",
      "Test Accuracy: 81.22%\n",
      "Test Accuracy: 80.93%\n",
      "Test Accuracy: 81.98%\n",
      "Limit: 3, Mean Accuracy: 0.80\n",
      "Data size:  3000\n",
      "Test Accuracy: 82.64%\n",
      "Test Accuracy: 81.57%\n",
      "Test Accuracy: 81.98%\n",
      "Test Accuracy: 80.35%\n",
      "Test Accuracy: 83.23%\n",
      "Test Accuracy: 83.29%\n",
      "Test Accuracy: 79.03%\n",
      "Test Accuracy: 81.95%\n",
      "Test Accuracy: 82.26%\n",
      "Test Accuracy: 82.44%\n",
      "Limit: 5, Mean Accuracy: 0.82\n",
      "Data size:  4200\n",
      "Test Accuracy: 83.51%\n",
      "Test Accuracy: 84.17%\n",
      "Test Accuracy: 82.68%\n",
      "Test Accuracy: 83.01%\n",
      "Test Accuracy: 82.62%\n",
      "Test Accuracy: 82.46%\n",
      "Test Accuracy: 82.83%\n",
      "Test Accuracy: 83.08%\n",
      "Test Accuracy: 82.99%\n",
      "Test Accuracy: 70.60%\n",
      "Limit: 7, Mean Accuracy: 0.82\n",
      "Data size:  5400\n",
      "Test Accuracy: 84.19%\n",
      "Test Accuracy: 84.10%\n",
      "Test Accuracy: 84.08%\n",
      "Test Accuracy: 84.81%\n",
      "Test Accuracy: 84.73%\n",
      "Test Accuracy: 84.61%\n",
      "Test Accuracy: 81.28%\n",
      "Test Accuracy: 84.73%\n",
      "Test Accuracy: 84.20%\n",
      "Test Accuracy: 84.27%\n",
      "Limit: 9, Mean Accuracy: 0.84\n"
     ]
    }
   ],
   "source": [
    "mean_accs = []\n",
    "eval_runs = 10\n",
    "for limit in range(1, 11, 2):\n",
    "    data_size = int(limit/100*len(X))\n",
    "    epochs = int(100/limit)\n",
    "    print(\"Data size: \", data_size)\n",
    "\n",
    "    indices = np.random.choice(X.shape[0], data_size, replace=False)\n",
    "    X_subset = X[indices]\n",
    "    y_subset = y[indices]\n",
    "    accs = []\n",
    "    for i in range(eval_runs):\n",
    "        train_dataset = SimpleDataset(X_subset, y_subset)\n",
    "        train_loader = torch.utils.data.DataLoader(train_dataset, batch_size=32, shuffle=True)\n",
    "\n",
    "        # Initialize model, optimizer, and environment\n",
    "        model = ConvNet()\n",
    "        model.to('cuda')\n",
    "        optimizer = optim.Adam(model.parameters(), lr=0.01)\n",
    "\n",
    "        count = 0\n",
    "        for epoch in range(epochs):\n",
    "            for data in train_loader:\n",
    "                image, label = data\n",
    "                output = model(image.to('cuda'))\n",
    "                loss = nn.CrossEntropyLoss()(output, label.to('cuda'))\n",
    "                optimizer.zero_grad()\n",
    "                loss.backward()\n",
    "                optimizer.step()\n",
    "                count += 1\n",
    "        \n",
    "        acc = test_model(model)\n",
    "        accs.append(acc)\n",
    "    \n",
    "    mean_accs.append(np.mean(accs))\n",
    "    print(f'Limit: {limit}, Mean Accuracy: {np.mean(accs):.2f}')\n"
   ]
  },
  {
   "cell_type": "markdown",
   "metadata": {},
   "source": [
    "# Diversity Score"
   ]
  },
  {
   "cell_type": "code",
   "execution_count": null,
   "metadata": {},
   "outputs": [
    {
     "data": {
      "text/plain": [
       "60000"
      ]
     },
     "execution_count": 8,
     "metadata": {},
     "output_type": "execute_result"
    }
   ],
   "source": [
    "# Sort the data by value\n",
    "\n",
    "X_ = [x for x, _ in sorted(zip(X, data_values), key=lambda x: x[-1], reverse=True)]\n",
    "y_ = [l for l, _ in sorted(zip(y, data_values), key=lambda x: x[-1], reverse=True)]\n",
    "\n",
    "len(X_)"
   ]
  },
  {
   "cell_type": "code",
   "execution_count": 9,
   "metadata": {},
   "outputs": [],
   "source": [
    "X_ = torch.stack(X_)\n",
    "y_ = torch.stack(y_)"
   ]
  },
  {
   "cell_type": "code",
   "execution_count": null,
   "metadata": {},
   "outputs": [],
   "source": [
    "import math\n",
    "\n",
    "def dpp(kernel_matrix, max_length, epsilon=1E-10):\n",
    "    \"\"\"\n",
    "    Our proposed fast implementation of the greedy algorithm\n",
    "    :param kernel_matrix: 2-d array\n",
    "    :param max_length: positive int\n",
    "    :param epsilon: small positive scalar\n",
    "    :return: list\n",
    "    \"\"\"\n",
    "    item_size = kernel_matrix.shape[0]\n",
    "    cis = np.zeros((max_length, item_size))\n",
    "    di2s = np.copy(np.diag(kernel_matrix))\n",
    "    selected_items = list()\n",
    "    selected_item = np.argmax(di2s)\n",
    "    selected_items.append(selected_item)\n",
    "    while len(selected_items) < max_length:\n",
    "        k = len(selected_items) - 1\n",
    "        ci_optimal = cis[:k, selected_item]\n",
    "        di_optimal = math.sqrt(di2s[selected_item])\n",
    "        elements = kernel_matrix[selected_item, :]\n",
    "        eis = (elements - np.dot(ci_optimal, cis[:k, :])) / di_optimal\n",
    "        cis[k, :] = eis\n",
    "        di2s -= np.square(eis)\n",
    "        di2s[selected_item] = -np.inf\n",
    "        selected_item = np.argmax(di2s)\n",
    "        if di2s[selected_item] < epsilon:\n",
    "            break\n",
    "        selected_items.append(selected_item)\n",
    "\n",
    "    return selected_items"
   ]
  },
  {
   "cell_type": "code",
   "execution_count": 11,
   "metadata": {},
   "outputs": [],
   "source": [
    "from sklearn.metrics.pairwise import rbf_kernel\n",
    "\n",
    "F_ = [x.flatten() for x in X_]\n",
    "F_ = torch.stack(F_)\n",
    "\n",
    "kernel_matrix = rbf_kernel(F_.cpu().numpy(), gamma=1e-3)"
   ]
  },
  {
   "cell_type": "code",
   "execution_count": 13,
   "metadata": {},
   "outputs": [],
   "source": [
    "max_size = int(0.51 * len(X_))\n",
    "selected_indices_ = dpp(kernel_matrix, max_size)"
   ]
  },
  {
   "cell_type": "code",
   "execution_count": 23,
   "metadata": {},
   "outputs": [],
   "source": [
    "from sklearn.metrics.pairwise import cosine_distances, euclidean_distances\n",
    "\n",
    "cosine_distances_dpp = []\n",
    "covariances_dpp = []\n",
    "\n",
    "size = 600\n",
    "for i in range(11):\n",
    "    size_ = size + i * 2850\n",
    "    samples = F_[selected_indices_[:size_]]\n",
    "    cosine_distances_dpp.append(np.mean(cosine_distances(samples.cpu().numpy())))\n",
    "    covariances_dpp.append(torch.diag(torch.cov(samples.T)).sum())"
   ]
  },
  {
   "cell_type": "code",
   "execution_count": 14,
   "metadata": {},
   "outputs": [],
   "source": [
    "# Greedy DPP 113 minutes"
   ]
  },
  {
   "cell_type": "markdown",
   "metadata": {},
   "source": [
    "## Trace covariance matrix"
   ]
  },
  {
   "cell_type": "code",
   "execution_count": 18,
   "metadata": {},
   "outputs": [],
   "source": [
    "cosine_distances_max = []\n",
    "covariances_max = []\n",
    "\n",
    "for size in range(1, 52, 5):\n",
    "\n",
    "    indices = torch.arange(int(size/100*len(X_)))\n",
    "    samples = X_[indices]\n",
    "    samples = samples.reshape(samples.shape[0], -1)\n",
    "    covariances_max.append(torch.diag(torch.cov(samples.T)).sum())\n",
    "    cosine_distances_max.append(np.mean(cosine_distances(samples.cpu().numpy())))"
   ]
  },
  {
   "cell_type": "code",
   "execution_count": 20,
   "metadata": {},
   "outputs": [],
   "source": [
    "cosine_distances_min = []\n",
    "covariances_min = []\n",
    "\n",
    "for size in range(1, 52, 5):\n",
    "\n",
    "    indices = -torch.arange(int(size/100*len(X_)))\n",
    "    samples = X_[indices]\n",
    "    samples = samples.reshape(samples.shape[0], -1)\n",
    "    covariances_min.append(torch.diag(torch.cov(samples.T)).sum())\n",
    "    cosine_distances_min.append(np.mean(cosine_distances(samples.cpu().numpy())))"
   ]
  },
  {
   "cell_type": "code",
   "execution_count": 24,
   "metadata": {},
   "outputs": [],
   "source": [
    "cosine_distances_random = []\n",
    "covariances_random = []\n",
    "\n",
    "for size in range(1, 52, 5):\n",
    "\n",
    "    indices = np.random.choice(len(X_), int(size/100*len(X_)), replace=False)\n",
    "    samples = X_[indices]\n",
    "    samples = samples.reshape(samples.shape[0], -1)\n",
    "    covariances_random.append(torch.diag(torch.cov(samples.T)).sum())\n",
    "    cosine_distances_random.append(np.mean(cosine_distances(samples.cpu().numpy())))"
   ]
  },
  {
   "cell_type": "code",
   "execution_count": 25,
   "metadata": {},
   "outputs": [
    {
     "data": {
      "image/png": "[encoded data removed]",
      "text/plain": [
       "<Figure size 1000x600 with 1 Axes>"
      ]
     },
     "metadata": {},
     "output_type": "display_data"
    }
   ],
   "source": [
    "sizes = range(1, 52, 5)\n",
    "\n",
    "plt.figure(figsize=(10, 6))\n",
    "plt.plot(sizes, covariances_max, marker='o', linestyle='-', color='b', label='Maximize')\n",
    "plt.plot(sizes, covariances_min, marker='o', linestyle='-', color='g', label='Minimize')\n",
    "plt.plot(sizes, covariances_random, marker='o', linestyle='-', color='r', label='Random')\n",
    "plt.plot(sizes, covariances_dpp, marker='o', linestyle='-', color='purple', label='Greedy DPP')\n",
    "\n",
    "# Updating labels and title for the plot\n",
    "plt.xlabel('Size (%)')\n",
    "plt.ylabel('Trace of Covariance')\n",
    "plt.title('Trace of Covariance vs. Size (%) for Fashion MNIST')\n",
    "plt.legend()\n",
    "plt.grid(True)\n",
    "plt.show()"
   ]
  },
  {
   "cell_type": "code",
   "execution_count": 28,
   "metadata": {},
   "outputs": [
    {
     "data": {
      "image/png": "[encoded data removed]",
      "text/plain": [
       "<Figure size 600x1000 with 1 Axes>"
      ]
     },
     "metadata": {},
     "output_type": "display_data"
    }
   ],
   "source": [
    "sizes = range(1, 52, 5)\n",
    "\n",
    "plt.figure(figsize=(6, 10))\n",
    "plt.plot(sizes, cosine_distances_max, marker='o', linestyle='-', color='b', label='Maximize (RL)')\n",
    "plt.plot(sizes, cosine_distances_min, marker='o', linestyle='-', color='g', label='Minimize (RL)')\n",
    "plt.plot(sizes, cosine_distances_random, marker='o', linestyle='-', color='r', label='Random')\n",
    "plt.plot(sizes, cosine_distances_dpp, marker='o', linestyle='-', color='purple', label='Greedy DPP')\n",
    "\n",
    "# Updating labels and title for the plot\n",
    "plt.xlabel('Size (%)')\n",
    "plt.ylabel('Mean Cosine Distance')\n",
    "plt.title('Mean Cosine Distance vs. Size (%) for Fashion MNIST')\n",
    "plt.legend()\n",
    "plt.grid(True)\n",
    "plt.show()"
   ]
  },
  {
   "cell_type": "markdown",
   "metadata": {},
   "source": [
    "# Acc"
   ]
  },
  {
   "cell_type": "code",
   "execution_count": null,
   "metadata": {},
   "outputs": [],
   "source": [
    "X_by_labels = {}\n",
    "y_by_labels = {}\n",
    "\n",
    "for label in np.unique(y):\n",
    "    X_by_labels[label] = [x for x, l in zip(X_, y_) if l == label]\n",
    "    y_by_labels[label] = [l for l in y_ if l == label]\n"
   ]
  },
  {
   "cell_type": "code",
   "execution_count": null,
   "metadata": {},
   "outputs": [],
   "source": [
    "X_ = [X_by_labels[i % 10].pop() for i in range(len(X_))]\n",
    "y_ = [y_by_labels[i % 10].pop() for i in range(len(y_))]"
   ]
  },
  {
   "cell_type": "code",
   "execution_count": null,
   "metadata": {},
   "outputs": [
    {
     "name": "stdout",
     "output_type": "stream",
     "text": [
      "Test Accuracy: 68.10%\n",
      "Test Accuracy: 65.94%\n",
      "Test Accuracy: 64.94%\n",
      "Test Accuracy: 71.59%\n",
      "Test Accuracy: 60.91%\n",
      "Test Accuracy: 67.91%\n",
      "Test Accuracy: 65.09%\n",
      "Test Accuracy: 65.47%\n",
      "Test Accuracy: 66.93%\n",
      "Test Accuracy: 67.09%\n",
      "Limit: 1, Mean Accuracy: 0.66\n",
      "Test Accuracy: 70.30%\n",
      "Test Accuracy: 73.61%\n",
      "Test Accuracy: 74.55%\n",
      "Test Accuracy: 75.68%\n",
      "Test Accuracy: 75.63%\n",
      "Test Accuracy: 76.66%\n",
      "Test Accuracy: 78.40%\n",
      "Test Accuracy: 79.22%\n",
      "Test Accuracy: 71.78%\n",
      "Test Accuracy: 68.33%\n",
      "Limit: 6, Mean Accuracy: 0.74\n",
      "Test Accuracy: 72.26%\n",
      "Test Accuracy: 76.03%\n",
      "Test Accuracy: 80.12%\n",
      "Test Accuracy: 75.84%\n",
      "Test Accuracy: 74.35%\n",
      "Test Accuracy: 77.92%\n",
      "Test Accuracy: 73.94%\n",
      "Test Accuracy: 77.63%\n",
      "Test Accuracy: 71.43%\n",
      "Test Accuracy: 75.95%\n",
      "Limit: 11, Mean Accuracy: 0.76\n",
      "Test Accuracy: 77.68%\n",
      "Test Accuracy: 77.55%\n",
      "Test Accuracy: 78.06%\n",
      "Test Accuracy: 76.61%\n",
      "Test Accuracy: 77.71%\n",
      "Test Accuracy: 77.46%\n",
      "Test Accuracy: 78.83%\n",
      "Test Accuracy: 74.05%\n",
      "Test Accuracy: 68.68%\n",
      "Test Accuracy: 77.15%\n",
      "Limit: 16, Mean Accuracy: 0.76\n",
      "Test Accuracy: 83.32%\n",
      "Test Accuracy: 78.62%\n",
      "Test Accuracy: 80.67%\n",
      "Test Accuracy: 77.04%\n",
      "Test Accuracy: 80.14%\n",
      "Test Accuracy: 79.53%\n",
      "Test Accuracy: 73.48%\n",
      "Test Accuracy: 73.80%\n",
      "Test Accuracy: 76.93%\n",
      "Test Accuracy: 80.65%\n",
      "Limit: 21, Mean Accuracy: 0.78\n"
     ]
    }
   ],
   "source": [
    "d_mean_accs = []\n",
    "eval_runs = 10\n",
    "for limit in range(1, 22, 5):\n",
    "    data_size = int(limit/100*len(X))\n",
    "    epochs = int(100/limit)\n",
    "    # X_subset = X_[-data_size:]\n",
    "    # y_subset = y_[-data_size:]\n",
    "\n",
    "    X_subset = X_[:data_size]\n",
    "    y_subset = y_[:data_size]\n",
    "\n",
    "    accs = []\n",
    "    for i in range(eval_runs):\n",
    "        train_dataset = SimpleDataset(X_subset, y_subset)\n",
    "        train_loader = torch.utils.data.DataLoader(train_dataset, batch_size=32, shuffle=True)\n",
    "\n",
    "        # Initialize model, optimizer, and environment\n",
    "        model = ConvNet()\n",
    "        model.to('cuda')\n",
    "        optimizer = optim.Adam(model.parameters(), lr=0.01)\n",
    "\n",
    "        count = 0\n",
    "        for epoch in range(epochs):\n",
    "            for data in train_loader:\n",
    "                image, label = data\n",
    "                output = model(image.to('cuda'))\n",
    "                loss = nn.CrossEntropyLoss()(output, label.to('cuda'))\n",
    "                optimizer.zero_grad()\n",
    "                loss.backward()\n",
    "                optimizer.step()\n",
    "                count += 1\n",
    "        \n",
    "        acc = test_model(model)\n",
    "        accs.append(acc)\n",
    "    \n",
    "    d_mean_accs.append(np.mean(accs))\n",
    "    print(f'Limit: {limit}, Mean Accuracy: {np.mean(accs):.2f}')\n"
   ]
  },
  {
   "cell_type": "code",
   "execution_count": null,
   "metadata": {},
   "outputs": [
    {
     "name": "stdout",
     "output_type": "stream",
     "text": [
      "Test Accuracy: 57.46%\n",
      "Test Accuracy: 58.42%\n",
      "Test Accuracy: 56.93%\n",
      "Test Accuracy: 59.29%\n",
      "Test Accuracy: 60.24%\n",
      "Test Accuracy: 52.15%\n",
      "Test Accuracy: 54.58%\n",
      "Test Accuracy: 56.22%\n",
      "Test Accuracy: 56.36%\n",
      "Test Accuracy: 54.77%\n",
      "Limit: 1, Mean Accuracy: 0.57\n",
      "Test Accuracy: 67.32%\n",
      "Test Accuracy: 66.86%\n",
      "Test Accuracy: 69.28%\n",
      "Test Accuracy: 65.61%\n",
      "Test Accuracy: 68.37%\n",
      "Test Accuracy: 64.29%\n",
      "Test Accuracy: 62.99%\n",
      "Test Accuracy: 65.54%\n",
      "Test Accuracy: 67.36%\n",
      "Test Accuracy: 68.61%\n",
      "Limit: 6, Mean Accuracy: 0.67\n",
      "Test Accuracy: 70.98%\n",
      "Test Accuracy: 69.80%\n",
      "Test Accuracy: 75.87%\n",
      "Test Accuracy: 69.19%\n",
      "Test Accuracy: 74.08%\n",
      "Test Accuracy: 70.41%\n",
      "Test Accuracy: 69.50%\n",
      "Test Accuracy: 74.34%\n",
      "Test Accuracy: 74.91%\n",
      "Test Accuracy: 73.72%\n",
      "Limit: 11, Mean Accuracy: 0.72\n",
      "Test Accuracy: 77.65%\n",
      "Test Accuracy: 73.94%\n",
      "Test Accuracy: 75.75%\n",
      "Test Accuracy: 70.87%\n",
      "Test Accuracy: 74.69%\n",
      "Test Accuracy: 74.68%\n",
      "Test Accuracy: 75.58%\n",
      "Test Accuracy: 75.33%\n",
      "Test Accuracy: 74.27%\n",
      "Test Accuracy: 77.58%\n",
      "Limit: 16, Mean Accuracy: 0.75\n",
      "Test Accuracy: 76.80%\n",
      "Test Accuracy: 77.93%\n",
      "Test Accuracy: 78.80%\n",
      "Test Accuracy: 76.66%\n",
      "Test Accuracy: 78.23%\n",
      "Test Accuracy: 76.02%\n",
      "Test Accuracy: 75.73%\n",
      "Test Accuracy: 77.27%\n",
      "Test Accuracy: 71.77%\n",
      "Test Accuracy: 72.46%\n",
      "Limit: 21, Mean Accuracy: 0.76\n"
     ]
    }
   ],
   "source": [
    "d_mean_accs = []\n",
    "eval_runs = 10\n",
    "for limit in range(1, 22, 5):\n",
    "    data_size = int(limit/100*len(X))\n",
    "    epochs = int(100/limit)\n",
    "    X_subset = X_[-data_size:]\n",
    "    y_subset = y_[-data_size:]\n",
    "\n",
    "    # X_subset = X_[:data_size]\n",
    "    # y_subset = y_[:data_size]\n",
    "\n",
    "    accs = []\n",
    "    for i in range(eval_runs):\n",
    "        train_dataset = SimpleDataset(X_subset, y_subset)\n",
    "        train_loader = torch.utils.data.DataLoader(train_dataset, batch_size=32, shuffle=True)\n",
    "\n",
    "        # Initialize model, optimizer, and environment\n",
    "        model = ConvNet()\n",
    "        model.to('cuda')\n",
    "        optimizer = optim.Adam(model.parameters(), lr=0.01)\n",
    "\n",
    "        count = 0\n",
    "        for epoch in range(epochs):\n",
    "            for data in train_loader:\n",
    "                image, label = data\n",
    "                output = model(image.to('cuda'))\n",
    "                loss = nn.CrossEntropyLoss()(output, label.to('cuda'))\n",
    "                optimizer.zero_grad()\n",
    "                loss.backward()\n",
    "                optimizer.step()\n",
    "                count += 1\n",
    "        \n",
    "        acc = test_model(model)\n",
    "        accs.append(acc)\n",
    "    \n",
    "    d_mean_accs.append(np.mean(accs))\n",
    "    print(f'Limit: {limit}, Mean Accuracy: {np.mean(accs):.2f}')\n"
   ]
  }
 ],
 "metadata": {
  "kernelspec": {
   "display_name": "dss",
   "language": "python",
   "name": "python3"
  },
  "language_info": {
   "codemirror_mode": {
    "name": "ipython",
    "version": 3
   },
   "file_extension": ".py",
   "mimetype": "text/x-python",
   "name": "python",
   "nbconvert_exporter": "python",
   "pygments_lexer": "ipython3",
   "version": "3.10.15"
  }
 },
 "nbformat": 4,
 "nbformat_minor": 2
}
